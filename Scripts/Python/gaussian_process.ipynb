{
 "cells": [
  {
   "cell_type": "code",
   "execution_count": 18,
   "metadata": {},
   "outputs": [],
   "source": [
    "import numpy as np\n",
    "import matplotlib.pyplot as plt\n",
    "from tqdm import tqdm"
   ]
  },
  {
   "cell_type": "code",
   "execution_count": 27,
   "metadata": {},
   "outputs": [],
   "source": [
    "def squared_exponential(a, b, tau = 1, ell = 1):\n",
    "    return tau**2*np.exp(-((a-b).T @ (a-b))/(2*ell**2))\n",
    "\n",
    "def covariance_python(X,Y,tau,ell):\n",
    "    n = len(X);\n",
    "    K = np.zeros((n,n));\n",
    "\n",
    "    for i in tqdm(range(n)):\n",
    "        for j in range(i,n):\n",
    "            a = np.array([X[i], Y[i]])\n",
    "            b = np.array([X[j], Y[j]])\n",
    "            k = squared_exponential(a,b,tau,ell)\n",
    "            K[i,j] = k\n",
    "            K[j,i] = k\n",
    "\n",
    "    return K\n",
    "\n",
    "\n",
    "def covariance_cuda(X,Y,tau,ell):\n",
    "\n",
    "def gaussian_process(x, y, tau = 1, ell = 1, cuda=False):\n",
    "\n",
    "    X, Y = np.meshgrid(x,y)\n",
    "    X = X.flatten()\n",
    "    Y = Y.flatten()\n",
    "\n",
    "    # Check correct input\n",
    "    if len(X) != len(Y):\n",
    "        print(\"x and y does not have the same length. This is required.\")\n",
    "        return\n",
    "    \n",
    "    if cuda:\n",
    "        K = covariance_cuda(X,Y,tau,ell);\n",
    "    else:\n",
    "        K = covariance_python(X,Y,tau,ell);\n",
    "\n",
    "    n = len(X);\n",
    "    m = np.zeros(n);\n",
    "    z = np.random.multivariate_normal(m,K)\n",
    "    Z = np.reshape(z,(len(x),len(y)))\n",
    "    return Z"
   ]
  },
  {
   "cell_type": "code",
   "execution_count": 34,
   "metadata": {},
   "outputs": [],
   "source": [
    "import ctypes\n",
    "def gaussian_process(x, y, so_file, tau = 1, ell = 1):\n",
    "    \n",
    "    # Compute mesh\n",
    "    X, Y = np.meshgrid(x, y)\n",
    "    X = X.flatten()\n",
    "    Y = Y.flatten()\n",
    "    \n",
    "    # Get variables for C implementation\n",
    "    n = len(X)\n",
    "    X_arr = (ctypes.c_int * len(X))(*X)\n",
    "    Y_arr = (ctypes.c_int * len(Y))(*Y)\n",
    "\n",
    "    # Get C function\n",
    "    c_func = ctypes.CDLL(so_file)\n",
    "\n",
    "    # Execute C implementation\n",
    "    c_func.gaussian_process(X_arr, Y_arr, n, tau, ell)\n",
    "\n",
    "    # Get result from file\n",
    "    z = 0\n",
    "\n",
    "    # Return reshaped result\n",
    "    return np.reshape(z,(len(x),len(y)))\n",
    "\n",
    "so_file = \"./convolution.so\""
   ]
  },
  {
   "cell_type": "code",
   "execution_count": 33,
   "metadata": {},
   "outputs": [
    {
     "name": "stderr",
     "output_type": "stream",
     "text": [
      "100%|██████████| 10000/10000 [07:46<00:00, 21.46it/s]\n"
     ]
    }
   ],
   "source": [
    "x = np.linspace(-100,100,100)\n",
    "y = np.linspace(-100,100,100)\n",
    "Z = gaussian_process(x, y, tau = 1, ell = 1)"
   ]
  },
  {
   "cell_type": "code",
   "execution_count": 29,
   "metadata": {},
   "outputs": [
    {
     "data": {
      "text/plain": [
       "(50, 50)"
      ]
     },
     "execution_count": 29,
     "metadata": {},
     "output_type": "execute_result"
    }
   ],
   "source": [
    "Z.shape"
   ]
  },
  {
   "cell_type": "code",
   "execution_count": 31,
   "metadata": {},
   "outputs": [
    {
     "data": {
      "text/plain": [
       "<matplotlib.image.AxesImage at 0x11d4ab7f0>"
      ]
     },
     "execution_count": 31,
     "metadata": {},
     "output_type": "execute_result"
    },
    {
     "data": {
      "image/png": "[encoded data removed]",
      "text/plain": [
       "<Figure size 640x480 with 1 Axes>"
      ]
     },
     "metadata": {},
     "output_type": "display_data"
    }
   ],
   "source": [
    "plt.imshow(Z)\n",
    "plt.colorbar()"
   ]
  },
  {
   "cell_type": "code",
   "execution_count": null,
   "metadata": {},
   "outputs": [],
   "source": []
  }
 ],
 "metadata": {
  "kernelspec": {
   "display_name": "Python 3",
   "language": "python",
   "name": "python3"
  },
  "language_info": {
   "codemirror_mode": {
    "name": "ipython",
    "version": 3
   },
   "file_extension": ".py",
   "mimetype": "text/x-python",
   "name": "python",
   "nbconvert_exporter": "python",
   "pygments_lexer": "ipython3",
   "version": "3.10.4"
  }
 },
 "nbformat": 4,
 "nbformat_minor": 2
}
